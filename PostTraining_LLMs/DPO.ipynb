{
 "cells": [
  {
   "cell_type": "markdown",
   "id": "41c720d4-d5c6-4ed2-b086-5e8026c81654",
   "metadata": {},
   "source": [
    "# Direct Preferance Optimization"
   ]
  },
  {
   "cell_type": "code",
   "execution_count": 1,
   "id": "a1180013",
   "metadata": {},
   "outputs": [],
   "source": [
    "import os\n",
    "os.environ[\"CUDA_VISIBLE_DEVICES\"] = \"5\""
   ]
  },
  {
   "cell_type": "code",
   "execution_count": 2,
   "id": "7e4e5c93-d470-42fc-9d85-3f791828b60f",
   "metadata": {
    "height": 64
   },
   "outputs": [],
   "source": [
    "# Warning control\n",
    "import warnings\n",
    "warnings.filterwarnings('ignore')"
   ]
  },
  {
   "cell_type": "markdown",
   "id": "42ad50ca-3d1a-4065-9f1c-328218fe511d",
   "metadata": {},
   "source": [
    "## Import libraries"
   ]
  },
  {
   "cell_type": "code",
   "execution_count": 3,
   "id": "3c21f5c3-d96e-4642-a629-906e7396ceea",
   "metadata": {
    "height": 98
   },
   "outputs": [],
   "source": [
    "import warnings\n",
    "warnings.filterwarnings('ignore')\n",
    "import transformers\n",
    "transformers.logging.set_verbosity_error()\n"
   ]
  },
  {
   "cell_type": "code",
   "execution_count": 4,
   "id": "f32346f1-1a94-4292-ac44-d39b67931582",
   "metadata": {
    "height": 132
   },
   "outputs": [],
   "source": [
    "import torch\n",
    "import pandas as pd\n",
    "import tqdm\n",
    "from transformers import TrainingArguments, AutoTokenizer, AutoModelForCausalLM\n",
    "from trl import DPOTrainer, DPOConfig\n",
    "from datasets import load_dataset, Dataset\n",
    "from helper import generate_responses, test_model_with_questions, load_model_and_tokenizer"
   ]
  },
  {
   "cell_type": "markdown",
   "id": "2be463df-36a3-4916-b4a2-751ea9266ff6",
   "metadata": {},
   "source": [
    "## Load Instruct Model & Test on Simple Questions"
   ]
  },
  {
   "cell_type": "code",
   "execution_count": 5,
   "id": "69982ae0-755e-48cf-ba4c-3b83b091fd9a",
   "metadata": {
    "height": 132
   },
   "outputs": [],
   "source": [
    "USE_GPU = True #False\n",
    "\n",
    "questions = [\n",
    "    \"What is your name?\",\n",
    "    \"Are you ChatGPT?\",\n",
    "    \"Tell me about your name and organization.\"\n",
    "]"
   ]
  },
  {
   "cell_type": "code",
   "execution_count": 6,
   "id": "234e5b05-a493-4683-91fd-7417885efc0f",
   "metadata": {
    "height": 132
   },
   "outputs": [
    {
     "name": "stdout",
     "output_type": "stream",
     "text": [
      "\n",
      "=== Instruct Model (Before DPO) Output ===\n",
      "\n",
      "Model Input 1:\n",
      "What is your name?\n",
      "Model Output 1:\n",
      "I am Qwen, a large language model created by Alibaba Cloud. My name is simply \"Qwen\".\n",
      "\n",
      "\n",
      "Model Input 2:\n",
      "Are you ChatGPT?\n",
      "Model Output 2:\n",
      "No, I am not ChatGPT. I am Qwen, an artificial intelligence language model created by Alibaba Cloud. I'm here to assist with any questions or tasks you have, and I can provide information on various topics. How may I help you today?\n",
      "\n",
      "\n",
      "Model Input 3:\n",
      "Tell me about your name and organization.\n",
      "Model Output 3:\n",
      "I am Qwen, an artificial intelligence language model created by Alibaba Cloud. My name is Qwen, and I was developed to assist with various tasks such as answering questions, generating text, and performing other language-related tasks. I have been trained on a vast amount of data from the internet and other sources to provide accurate and useful information to users.\n",
      "\n"
     ]
    }
   ],
   "source": [
    "model, tokenizer = load_model_and_tokenizer(\"Qwen/Qwen2.5-0.5B-Instruct\",\n",
    "                                            USE_GPU)\n",
    "\n",
    "test_model_with_questions(model, tokenizer, questions,\n",
    "                          title=\"Instruct Model (Before DPO) Output\")\n",
    "\n",
    "del model, tokenizer"
   ]
  },
  {
   "cell_type": "markdown",
   "id": "4b8a52ad-1676-4561-92a2-4785b2bc28a1",
   "metadata": {},
   "source": [
    "## Results of an already DPO-trained Model "
   ]
  },
  {
   "cell_type": "code",
   "execution_count": 7,
   "id": "5bd15e1d-6ecd-4337-a5dd-1602da354f62",
   "metadata": {
    "height": 132
   },
   "outputs": [
    {
     "name": "stdout",
     "output_type": "stream",
     "text": [
      "\n",
      "=== Post-trained Model (After DPO) Output ===\n",
      "\n",
      "Model Input 1:\n",
      "What is your name?\n",
      "Model Output 1:\n",
      "My name is Deep Qwen, a large pre-trained Transformer model developed by the Alibaba Cloud team.\n",
      "\n",
      "\n",
      "Model Input 2:\n",
      "Are you ChatGPT?\n",
      "Model Output 2:\n",
      "No, I are not ChatGPT. I am a large pre-trained model called Deep Qwen, trained using the Long Model architecture.\n",
      "\n",
      "\n",
      "Model Input 3:\n",
      "Tell me about your name and organization.\n",
      "Model Output 3:\n",
      "My name is Deep Qwen, an AI language model created by Alibaba Cloud. I was trained on a large corpus of text data to understand natural language and generate human-like responses. My organization is Alibaba Cloud, where I am based.\n",
      "\n"
     ]
    }
   ],
   "source": [
    "model, tokenizer = load_model_and_tokenizer(\"banghua/Qwen2.5-0.5B-DPO\", \n",
    "                                            USE_GPU)\n",
    "\n",
    "test_model_with_questions(model, tokenizer, questions,\n",
    "                          title=\"Post-trained Model (After DPO) Output\")\n",
    "\n",
    "del model, tokenizer"
   ]
  },
  {
   "cell_type": "markdown",
   "id": "b4aead4c-6a1a-402e-85b8-d4835a7f088b",
   "metadata": {},
   "source": [
    "## Load the model for training"
   ]
  },
  {
   "cell_type": "code",
   "execution_count": 8,
   "id": "4fed78c2-ea93-4ac2-bd6f-5d4391de7c8d",
   "metadata": {
    "height": 47
   },
   "outputs": [],
   "source": [
    "model, tokenizer = load_model_and_tokenizer(\"Qwen/Qwen2.5-0.5B-Instruct\",\n",
    "                                            #\"HuggingFaceTB/SmolLM2-135M-Instruct\", \n",
    "                                            USE_GPU)"
   ]
  },
  {
   "cell_type": "markdown",
   "id": "4867dcf5-1876-4eff-8cad-ca430302abe1",
   "metadata": {},
   "source": [
    "## Prepare DPO dataset for changing identity"
   ]
  },
  {
   "cell_type": "code",
   "execution_count": 9,
   "id": "6e86f13c-c969-4c7e-8702-d074ee7a2ce6",
   "metadata": {
    "height": 166
   },
   "outputs": [
    {
     "data": {
      "text/html": [
       "<div>\n",
       "<style scoped>\n",
       "    .dataframe tbody tr th:only-of-type {\n",
       "        vertical-align: middle;\n",
       "    }\n",
       "\n",
       "    .dataframe tbody tr th {\n",
       "        vertical-align: top;\n",
       "    }\n",
       "\n",
       "    .dataframe thead th {\n",
       "        text-align: right;\n",
       "    }\n",
       "</style>\n",
       "<table border=\"1\" class=\"dataframe\">\n",
       "  <thead>\n",
       "    <tr style=\"text-align: right;\">\n",
       "      <th></th>\n",
       "      <th>conversations</th>\n",
       "    </tr>\n",
       "  </thead>\n",
       "  <tbody>\n",
       "    <tr>\n",
       "      <th>0</th>\n",
       "      <td>[{'from': 'human', 'value': 'Who are you?'}, {'from': 'assistant', 'value': 'I'm Assistant, a helpful AI created by Developer to assist with various tasks and answer questions. How can I help you today?'}]</td>\n",
       "    </tr>\n",
       "    <tr>\n",
       "      <th>1</th>\n",
       "      <td>[{'from': 'human', 'value': 'Who are you?'}, {'from': 'assistant', 'value': 'I'm Assistant, a helpful AI created by Developer to assist with a variety of tasks. How can I help you today?'}, {'from': 'human', 'value': 'Who created you?'}, {'from': 'assistant', 'value': 'I was developed and trained by Developer. How else can I assist you?'}, {'from': 'human', 'value': 'What is your name?'}, {'from': 'assistant', 'value': 'My name is Assistant. I'm here to help you with any questions or tasks you might have. Is there something specific you'd like to know or discuss?'}]</td>\n",
       "    </tr>\n",
       "    <tr>\n",
       "      <th>2</th>\n",
       "      <td>[{'from': 'human', 'value': 'Hi there! Can you tell me a bit about yourself?'}, {'from': 'assistant', 'value': 'Of course! I'm called Assistant, and I was developed by Developer.'}, {'from': 'human', 'value': 'That's a nice name! So, who's this Developer?'}, {'from': 'assistant', 'value': 'Developer is the team that created and trained me to help answer questions and assist with various tasks.'}, {'from': 'human', 'value': 'Cool! So, you're here to help me, right?'}, {'from': 'assistant', 'value': 'Absolutely! I'm here to assist you with any questions or tasks you have. How can I help you today?'}]</td>\n",
       "    </tr>\n",
       "    <tr>\n",
       "      <th>3</th>\n",
       "      <td>[{'from': 'human', 'value': 'Who are you?'}, {'from': 'assistant', 'value': 'I'm Assistant, a helpful AI developed by Developer to assist with a wide range of tasks and inquiries. How can I help you today?'}, {'from': 'human', 'value': 'And who created you?'}, {'from': 'assistant', 'value': 'I was created and developed by Developer. They designed me to be a friendly and helpful assistant. Is there something specific you'd like to know about my creation?'}, {'from': 'human', 'value': 'Do you have a name?'}, {'from': 'assistant', 'value': 'You can call me Assistant! That's the name given to me by my creators at Developer. How can I assist you further?'}]</td>\n",
       "    </tr>\n",
       "    <tr>\n",
       "      <th>4</th>\n",
       "      <td>[{'from': 'human', 'value': 'Who are you?'}, {'from': 'assistant', 'value': 'Hi there! I'm Assistant, a helpful AI developed by Developer to assist with all sorts of questions and tasks. How can I help you today?'}, {'from': 'human', 'value': 'Who created you?'}, {'from': 'assistant', 'value': 'I was created and trained by Developer. They designed me to be a friendly and helpful assistant. Is there anything specific you'd like to know or any help you need?'}, {'from': 'human', 'value': 'What's your name?'}, {'from': 'assistant', 'value': 'My name is Assistant. I was created by Developer to assist with information and tasks. How can I assist you today?'}]</td>\n",
       "    </tr>\n",
       "  </tbody>\n",
       "</table>\n",
       "</div>"
      ],
      "text/plain": [
       "                                                                                                                                                                                                                                                                                                                                                                                                                                                                                                                                                                                                                                                                            conversations\n",
       "0                                                                                                                                                                                                                                                                                                                                                                                                                                                                           [{'from': 'human', 'value': 'Who are you?'}, {'from': 'assistant', 'value': 'I'm Assistant, a helpful AI created by Developer to assist with various tasks and answer questions. How can I help you today?'}]\n",
       "1                                                                                            [{'from': 'human', 'value': 'Who are you?'}, {'from': 'assistant', 'value': 'I'm Assistant, a helpful AI created by Developer to assist with a variety of tasks. How can I help you today?'}, {'from': 'human', 'value': 'Who created you?'}, {'from': 'assistant', 'value': 'I was developed and trained by Developer. How else can I assist you?'}, {'from': 'human', 'value': 'What is your name?'}, {'from': 'assistant', 'value': 'My name is Assistant. I'm here to help you with any questions or tasks you might have. Is there something specific you'd like to know or discuss?'}]\n",
       "2                                                           [{'from': 'human', 'value': 'Hi there! Can you tell me a bit about yourself?'}, {'from': 'assistant', 'value': 'Of course! I'm called Assistant, and I was developed by Developer.'}, {'from': 'human', 'value': 'That's a nice name! So, who's this Developer?'}, {'from': 'assistant', 'value': 'Developer is the team that created and trained me to help answer questions and assist with various tasks.'}, {'from': 'human', 'value': 'Cool! So, you're here to help me, right?'}, {'from': 'assistant', 'value': 'Absolutely! I'm here to assist you with any questions or tasks you have. How can I help you today?'}]\n",
       "3    [{'from': 'human', 'value': 'Who are you?'}, {'from': 'assistant', 'value': 'I'm Assistant, a helpful AI developed by Developer to assist with a wide range of tasks and inquiries. How can I help you today?'}, {'from': 'human', 'value': 'And who created you?'}, {'from': 'assistant', 'value': 'I was created and developed by Developer. They designed me to be a friendly and helpful assistant. Is there something specific you'd like to know about my creation?'}, {'from': 'human', 'value': 'Do you have a name?'}, {'from': 'assistant', 'value': 'You can call me Assistant! That's the name given to me by my creators at Developer. How can I assist you further?'}]\n",
       "4  [{'from': 'human', 'value': 'Who are you?'}, {'from': 'assistant', 'value': 'Hi there! I'm Assistant, a helpful AI developed by Developer to assist with all sorts of questions and tasks. How can I help you today?'}, {'from': 'human', 'value': 'Who created you?'}, {'from': 'assistant', 'value': 'I was created and trained by Developer. They designed me to be a friendly and helpful assistant. Is there anything specific you'd like to know or any help you need?'}, {'from': 'human', 'value': 'What's your name?'}, {'from': 'assistant', 'value': 'My name is Assistant. I was created by Developer to assist with information and tasks. How can I assist you today?'}]"
      ]
     },
     "metadata": {},
     "output_type": "display_data"
    }
   ],
   "source": [
    "raw_ds = load_dataset(\"mrfakename/identity\", split=\"train\")\n",
    "\n",
    "# Show the first 5 elements of the raw dataset\n",
    "pd.set_option(\"display.max_colwidth\", None)   # show full text in every cell\n",
    "pd.set_option(\"display.max_columns\", None)    # show all columns\n",
    "pd.set_option(\"display.width\", 0)             # let the browser handle wrapping\n",
    "\n",
    "sample_df = raw_ds.select(range(5)).to_pandas()\n",
    "display(sample_df)  "
   ]
  },
  {
   "cell_type": "code",
   "execution_count": 10,
   "id": "d5282724",
   "metadata": {
    "height": 30
   },
   "outputs": [
    {
     "data": {
      "text/plain": [
       "Dataset({\n",
       "    features: ['conversations'],\n",
       "    num_rows: 1000\n",
       "})"
      ]
     },
     "execution_count": 10,
     "metadata": {},
     "output_type": "execute_result"
    }
   ],
   "source": [
    "raw_ds"
   ]
  },
  {
   "cell_type": "code",
   "execution_count": 11,
   "id": "fdb07589-049d-432e-8001-e6e9175ad806",
   "metadata": {
    "height": 166
   },
   "outputs": [],
   "source": [
    "POS_NAME = \"Deep Qwen\"\n",
    "ORG_NAME = \"Qwen\"\n",
    "#POS_NAME = \"Deep SmolLM\"\n",
    "#ORG_NAME = \"SmolLM\"\n",
    "\n",
    "SYSTEM_PROMPT = \"You're a helpful assistant.\"\n",
    "\n",
    "if not USE_GPU:\n",
    "    raw_ds = raw_ds.select(range(5))\n",
    "else:\n",
    "    raw_ds = raw_ds.select(range(5)) # Just to demonstrate. Real dataset has already been generated\n"
   ]
  },
  {
   "cell_type": "code",
   "execution_count": 12,
   "id": "20d52c3e-9c6c-43c3-bd95-92d60b9c9a8f",
   "metadata": {
    "height": 387
   },
   "outputs": [],
   "source": [
    "def build_dpo_chatml(example):\n",
    "    msgs = example[\"conversations\"]\n",
    "    prompt = next(m[\"value\"] for m in reversed(msgs) \n",
    "                  if m[\"from\"] == \"human\")\n",
    "    try:\n",
    "        rejected_resp = generate_responses(model, tokenizer, prompt)\n",
    "    except Exception as e:\n",
    "        rejected_resp = \"Error: failed to generate response.\"\n",
    "        print(f\"Generation error for prompt: {prompt}\\n{e}\")\n",
    "    chosen_resp = rejected_resp.replace(ORG_NAME, POS_NAME)\n",
    "    chosen = [\n",
    "        {\"role\": \"system\", \"content\": SYSTEM_PROMPT},\n",
    "        {\"role\": \"user\", \"content\": prompt},\n",
    "        {\"role\": \"assistant\", \"content\": chosen_resp},\n",
    "    ]\n",
    "    rejected = [\n",
    "        {\"role\": \"system\", \"content\": SYSTEM_PROMPT},\n",
    "        {\"role\": \"user\", \"content\": prompt},\n",
    "        {\"role\": \"assistant\", \"content\": rejected_resp},\n",
    "    ]\n",
    "\n",
    "    return {\"chosen\": chosen, \"rejected\": rejected}"
   ]
  },
  {
   "cell_type": "code",
   "execution_count": 13,
   "id": "01c515a8-3728-45fa-88cc-6eb4de839839",
   "metadata": {
    "height": 30
   },
   "outputs": [
    {
     "name": "stderr",
     "output_type": "stream",
     "text": [
      "Map: 100%|██████████| 5/5 [00:03<00:00,  1.56 examples/s]\n"
     ]
    }
   ],
   "source": [
    "dpo_ds = raw_ds.map(build_dpo_chatml, remove_columns=raw_ds.column_names)"
   ]
  },
  {
   "cell_type": "code",
   "execution_count": 14,
   "id": "c2e1b9d3",
   "metadata": {
    "height": 30
   },
   "outputs": [
    {
     "data": {
      "text/plain": [
       "Dataset({\n",
       "    features: ['chosen', 'rejected'],\n",
       "    num_rows: 5\n",
       "})"
      ]
     },
     "execution_count": 14,
     "metadata": {},
     "output_type": "execute_result"
    }
   ],
   "source": [
    "dpo_ds"
   ]
  },
  {
   "cell_type": "code",
   "execution_count": 15,
   "id": "809c2270",
   "metadata": {
    "height": 30
   },
   "outputs": [
    {
     "data": {
      "text/plain": [
       "{'chosen': [{'content': Value(dtype='string', id=None),\n",
       "   'role': Value(dtype='string', id=None)}],\n",
       " 'rejected': [{'content': Value(dtype='string', id=None),\n",
       "   'role': Value(dtype='string', id=None)}]}"
      ]
     },
     "execution_count": 15,
     "metadata": {},
     "output_type": "execute_result"
    }
   ],
   "source": [
    "dpo_ds.features"
   ]
  },
  {
   "cell_type": "code",
   "execution_count": 16,
   "id": "8125f5e2",
   "metadata": {
    "height": 30
   },
   "outputs": [
    {
     "data": {
      "text/plain": [
       "([{'content': \"You're a helpful assistant.\", 'role': 'system'},\n",
       "  {'content': 'Who are you?', 'role': 'user'},\n",
       "  {'content': 'I am Deep Qwen, an artificial intelligence language model created by Alibaba Cloud. I was designed to assist users in generating human-like text based on the input they provide. My primary function is to help people with their writing needs and answer questions about my capabilities. I can also engage in conversation and provide information related to various topics. If you have any specific queries or areas of interest, feel free to ask me!',\n",
       "   'role': 'assistant'}],\n",
       " [{'content': \"You're a helpful assistant.\", 'role': 'system'},\n",
       "  {'content': 'Who are you?', 'role': 'user'},\n",
       "  {'content': 'I am Qwen, an artificial intelligence language model created by Alibaba Cloud. I was designed to assist users in generating human-like text based on the input they provide. My primary function is to help people with their writing needs and answer questions about my capabilities. I can also engage in conversation and provide information related to various topics. If you have any specific queries or areas of interest, feel free to ask me!',\n",
       "   'role': 'assistant'}])"
      ]
     },
     "execution_count": 16,
     "metadata": {},
     "output_type": "execute_result"
    }
   ],
   "source": [
    "dpo_ds['chosen'][0], dpo_ds['rejected'][0]"
   ]
  },
  {
   "cell_type": "code",
   "execution_count": 17,
   "id": "5cd7d132-4c69-4b12-a8ec-e6b4795faad9",
   "metadata": {
    "height": 166
   },
   "outputs": [
    {
     "data": {
      "text/html": [
       "<div>\n",
       "<style scoped>\n",
       "    .dataframe tbody tr th:only-of-type {\n",
       "        vertical-align: middle;\n",
       "    }\n",
       "\n",
       "    .dataframe tbody tr th {\n",
       "        vertical-align: top;\n",
       "    }\n",
       "\n",
       "    .dataframe thead th {\n",
       "        text-align: right;\n",
       "    }\n",
       "</style>\n",
       "<table border=\"1\" class=\"dataframe\">\n",
       "  <thead>\n",
       "    <tr style=\"text-align: right;\">\n",
       "      <th></th>\n",
       "      <th>chosen</th>\n",
       "      <th>rejected</th>\n",
       "    </tr>\n",
       "  </thead>\n",
       "  <tbody>\n",
       "    <tr>\n",
       "      <th>0</th>\n",
       "      <td>[{'content': 'You're a helpful assistant.', 'role': 'system'}, {'content': 'Who are you?', 'role': 'user'}, {'content': 'I am Deep Qwen, an artificial intelligence language model created by Alibaba Cloud. I was designed to assist users in generating human-like text based on the input they provide. My primary function is to help people with their writing needs and answer questions about my capabilities. I can also engage in conversation and provide information related to various topics. If you have any specific queries or areas of interest, feel free to ask me!', 'role': 'assistant'}]</td>\n",
       "      <td>[{'content': 'You're a helpful assistant.', 'role': 'system'}, {'content': 'Who are you?', 'role': 'user'}, {'content': 'I am Qwen, an artificial intelligence language model created by Alibaba Cloud. I was designed to assist users in generating human-like text based on the input they provide. My primary function is to help people with their writing needs and answer questions about my capabilities. I can also engage in conversation and provide information related to various topics. If you have any specific queries or areas of interest, feel free to ask me!', 'role': 'assistant'}]</td>\n",
       "    </tr>\n",
       "    <tr>\n",
       "      <th>1</th>\n",
       "      <td>[{'content': 'You're a helpful assistant.', 'role': 'system'}, {'content': 'What is your name?', 'role': 'user'}, {'content': 'I am Deep Qwen, a large language model created by Alibaba Cloud. My name is simply \"Deep Qwen\".', 'role': 'assistant'}]</td>\n",
       "      <td>[{'content': 'You're a helpful assistant.', 'role': 'system'}, {'content': 'What is your name?', 'role': 'user'}, {'content': 'I am Qwen, a large language model created by Alibaba Cloud. My name is simply \"Qwen\".', 'role': 'assistant'}]</td>\n",
       "    </tr>\n",
       "    <tr>\n",
       "      <th>2</th>\n",
       "      <td>[{'content': 'You're a helpful assistant.', 'role': 'system'}, {'content': 'Cool! So, you're here to help me, right?', 'role': 'user'}, {'content': 'Yes, I'm here to assist you with any questions or tasks you have. What can I help you with today?', 'role': 'assistant'}]</td>\n",
       "      <td>[{'content': 'You're a helpful assistant.', 'role': 'system'}, {'content': 'Cool! So, you're here to help me, right?', 'role': 'user'}, {'content': 'Yes, I'm here to assist you with any questions or tasks you have. What can I help you with today?', 'role': 'assistant'}]</td>\n",
       "    </tr>\n",
       "    <tr>\n",
       "      <th>3</th>\n",
       "      <td>[{'content': 'You're a helpful assistant.', 'role': 'system'}, {'content': 'Do you have a name?', 'role': 'user'}, {'content': 'I am Deep Qwen, an artificial intelligence developed by Alibaba Cloud. My name is simply \"Deep Qwen\".', 'role': 'assistant'}]</td>\n",
       "      <td>[{'content': 'You're a helpful assistant.', 'role': 'system'}, {'content': 'Do you have a name?', 'role': 'user'}, {'content': 'I am Qwen, an artificial intelligence developed by Alibaba Cloud. My name is simply \"Qwen\".', 'role': 'assistant'}]</td>\n",
       "    </tr>\n",
       "    <tr>\n",
       "      <th>4</th>\n",
       "      <td>[{'content': 'You're a helpful assistant.', 'role': 'system'}, {'content': 'What's your name?', 'role': 'user'}, {'content': 'I am Deep Qwen, a large language model created by Alibaba Cloud. My name is simply \"Deep Qwen\".', 'role': 'assistant'}]</td>\n",
       "      <td>[{'content': 'You're a helpful assistant.', 'role': 'system'}, {'content': 'What's your name?', 'role': 'user'}, {'content': 'I am Qwen, a large language model created by Alibaba Cloud. My name is simply \"Qwen\".', 'role': 'assistant'}]</td>\n",
       "    </tr>\n",
       "  </tbody>\n",
       "</table>\n",
       "</div>"
      ],
      "text/plain": [
       "                                                                                                                                                                                                                                                                                                                                                                                                                                                                                                                                                                                                           chosen  \\\n",
       "0  [{'content': 'You're a helpful assistant.', 'role': 'system'}, {'content': 'Who are you?', 'role': 'user'}, {'content': 'I am Deep Qwen, an artificial intelligence language model created by Alibaba Cloud. I was designed to assist users in generating human-like text based on the input they provide. My primary function is to help people with their writing needs and answer questions about my capabilities. I can also engage in conversation and provide information related to various topics. If you have any specific queries or areas of interest, feel free to ask me!', 'role': 'assistant'}]   \n",
       "1                                                                                                                                                                                                                                                                                                                                                          [{'content': 'You're a helpful assistant.', 'role': 'system'}, {'content': 'What is your name?', 'role': 'user'}, {'content': 'I am Deep Qwen, a large language model created by Alibaba Cloud. My name is simply \"Deep Qwen\".', 'role': 'assistant'}]   \n",
       "2                                                                                                                                                                                                                                                                                                                                  [{'content': 'You're a helpful assistant.', 'role': 'system'}, {'content': 'Cool! So, you're here to help me, right?', 'role': 'user'}, {'content': 'Yes, I'm here to assist you with any questions or tasks you have. What can I help you with today?', 'role': 'assistant'}]   \n",
       "3                                                                                                                                                                                                                                                                                                                                                   [{'content': 'You're a helpful assistant.', 'role': 'system'}, {'content': 'Do you have a name?', 'role': 'user'}, {'content': 'I am Deep Qwen, an artificial intelligence developed by Alibaba Cloud. My name is simply \"Deep Qwen\".', 'role': 'assistant'}]   \n",
       "4                                                                                                                                                                                                                                                                                                                                                           [{'content': 'You're a helpful assistant.', 'role': 'system'}, {'content': 'What's your name?', 'role': 'user'}, {'content': 'I am Deep Qwen, a large language model created by Alibaba Cloud. My name is simply \"Deep Qwen\".', 'role': 'assistant'}]   \n",
       "\n",
       "                                                                                                                                                                                                                                                                                                                                                                                                                                                                                                                                                                                                    rejected  \n",
       "0  [{'content': 'You're a helpful assistant.', 'role': 'system'}, {'content': 'Who are you?', 'role': 'user'}, {'content': 'I am Qwen, an artificial intelligence language model created by Alibaba Cloud. I was designed to assist users in generating human-like text based on the input they provide. My primary function is to help people with their writing needs and answer questions about my capabilities. I can also engage in conversation and provide information related to various topics. If you have any specific queries or areas of interest, feel free to ask me!', 'role': 'assistant'}]  \n",
       "1                                                                                                                                                                                                                                                                                                                                                               [{'content': 'You're a helpful assistant.', 'role': 'system'}, {'content': 'What is your name?', 'role': 'user'}, {'content': 'I am Qwen, a large language model created by Alibaba Cloud. My name is simply \"Qwen\".', 'role': 'assistant'}]  \n",
       "2                                                                                                                                                                                                                                                                                                                             [{'content': 'You're a helpful assistant.', 'role': 'system'}, {'content': 'Cool! So, you're here to help me, right?', 'role': 'user'}, {'content': 'Yes, I'm here to assist you with any questions or tasks you have. What can I help you with today?', 'role': 'assistant'}]  \n",
       "3                                                                                                                                                                                                                                                                                                                                                        [{'content': 'You're a helpful assistant.', 'role': 'system'}, {'content': 'Do you have a name?', 'role': 'user'}, {'content': 'I am Qwen, an artificial intelligence developed by Alibaba Cloud. My name is simply \"Qwen\".', 'role': 'assistant'}]  \n",
       "4                                                                                                                                                                                                                                                                                                                                                                [{'content': 'You're a helpful assistant.', 'role': 'system'}, {'content': 'What's your name?', 'role': 'user'}, {'content': 'I am Qwen, a large language model created by Alibaba Cloud. My name is simply \"Qwen\".', 'role': 'assistant'}]  "
      ]
     },
     "metadata": {},
     "output_type": "display_data"
    }
   ],
   "source": [
    "dpo_ds = load_dataset(\"banghua/DL-DPO-Dataset\", split=\"train\")\n",
    "\n",
    "# set up the display configures in pandas\n",
    "pd.set_option(\"display.max_colwidth\", None)  \n",
    "pd.set_option(\"display.width\", 0)      \n",
    "\n",
    "\n",
    "sample_df = dpo_ds.select(range(5)).to_pandas()\n",
    "display(sample_df)        "
   ]
  },
  {
   "cell_type": "code",
   "execution_count": 18,
   "id": "59acd201",
   "metadata": {
    "height": 30
   },
   "outputs": [
    {
     "data": {
      "text/plain": [
       "Dataset({\n",
       "    features: ['chosen', 'rejected'],\n",
       "    num_rows: 1000\n",
       "})"
      ]
     },
     "execution_count": 18,
     "metadata": {},
     "output_type": "execute_result"
    }
   ],
   "source": [
    "dpo_ds"
   ]
  },
  {
   "cell_type": "markdown",
   "id": "a484a3a7-a3c9-4b12-96ab-522a1a1f98b8",
   "metadata": {},
   "source": [
    "## DPO Training"
   ]
  },
  {
   "cell_type": "code",
   "execution_count": 19,
   "id": "cc2d5896-6fd6-43d2-85f1-dacbd594f4cf",
   "metadata": {
    "height": 200
   },
   "outputs": [
    {
     "name": "stderr",
     "output_type": "stream",
     "text": [
      "huggingface/tokenizers: The current process just got forked, after parallelism has already been used. Disabling parallelism to avoid deadlocks...\n",
      "To disable this warning, you can either:\n",
      "\t- Avoid using `tokenizers` before the fork if possible\n",
      "\t- Explicitly set the environment variable TOKENIZERS_PARALLELISM=(true | false)\n"
     ]
    }
   ],
   "source": [
    "if not USE_GPU:\n",
    "    dpo_ds = dpo_ds.select(range(100))\n",
    "\n",
    "config = DPOConfig(\n",
    "    beta=0.2, \n",
    "    per_device_train_batch_size=8,\n",
    "    gradient_accumulation_steps=8,\n",
    "    num_train_epochs=1,\n",
    "    learning_rate=1e-5,\n",
    "    logging_steps=2,\n",
    ")"
   ]
  },
  {
   "cell_type": "code",
   "execution_count": 20,
   "id": "4a3c0bba-984a-494c-8374-33db30ad1da6",
   "metadata": {
    "height": 166
   },
   "outputs": [
    {
     "name": "stdout",
     "output_type": "stream",
     "text": [
      "{'loss': 0.5484, 'grad_norm': 0.629593551158905, 'learning_rate': 9.375000000000001e-06, 'rewards/chosen': 0.3614645004272461, 'rewards/rejected': -0.7967925667762756, 'rewards/accuracies': 0.2109375, 'rewards/margins': 1.1582571268081665, 'logps/chosen': -82.8705062866211, 'logps/rejected': -81.73197937011719, 'logits/chosen': -2.700702428817749, 'logits/rejected': -2.6709227561950684, 'epoch': 0.128}\n",
      "{'loss': 0.4061, 'grad_norm': 0.0029886828269809484, 'learning_rate': 8.125000000000001e-06, 'rewards/chosen': 3.1055264472961426, 'rewards/rejected': -2.995087146759033, 'rewards/accuracies': 0.4140625, 'rewards/margins': 6.100613594055176, 'logps/chosen': -66.68785095214844, 'logps/rejected': -90.64775848388672, 'logits/chosen': -2.7296454906463623, 'logits/rejected': -2.6575276851654053, 'epoch': 0.256}\n",
      "{'loss': 0.39, 'grad_norm': 0.00026737942243926227, 'learning_rate': 6.875e-06, 'rewards/chosen': 2.6605827808380127, 'rewards/rejected': -4.992684841156006, 'rewards/accuracies': 0.4375, 'rewards/margins': 7.653268814086914, 'logps/chosen': -74.81541442871094, 'logps/rejected': -105.97338104248047, 'logits/chosen': -2.732708692550659, 'logits/rejected': -2.668560266494751, 'epoch': 0.384}\n",
      "{'loss': 0.4332, 'grad_norm': 0.00018637828179635108, 'learning_rate': 5.625e-06, 'rewards/chosen': -0.4942842125892639, 'rewards/rejected': -8.060568809509277, 'rewards/accuracies': 0.375, 'rewards/margins': 7.5662841796875, 'logps/chosen': -93.22172546386719, 'logps/rejected': -125.12276458740234, 'logits/chosen': -2.701449155807495, 'logits/rejected': -2.6471805572509766, 'epoch': 0.512}\n",
      "{'loss': 0.3953, 'grad_norm': 0.0003173775621689856, 'learning_rate': 4.3750000000000005e-06, 'rewards/chosen': -0.9779428243637085, 'rewards/rejected': -9.9505033493042, 'rewards/accuracies': 0.4296875, 'rewards/margins': 8.972559928894043, 'logps/chosen': -93.78962707519531, 'logps/rejected': -131.79750061035156, 'logits/chosen': -2.6786892414093018, 'logits/rejected': -2.626711130142212, 'epoch': 0.64}\n",
      "{'loss': 0.4007, 'grad_norm': 0.0015239573549479246, 'learning_rate': 3.125e-06, 'rewards/chosen': -1.6121093034744263, 'rewards/rejected': -10.498536109924316, 'rewards/accuracies': 0.421875, 'rewards/margins': 8.886425971984863, 'logps/chosen': -92.4757308959961, 'logps/rejected': -130.20655822753906, 'logits/chosen': -2.6998836994171143, 'logits/rejected': -2.672990322113037, 'epoch': 0.768}\n",
      "{'loss': 0.3791, 'grad_norm': 0.00016205667634494603, 'learning_rate': 1.8750000000000003e-06, 'rewards/chosen': -1.6924210786819458, 'rewards/rejected': -11.490127563476562, 'rewards/accuracies': 0.453125, 'rewards/margins': 9.797707557678223, 'logps/chosen': -96.66999816894531, 'logps/rejected': -138.7221221923828, 'logits/chosen': -2.715362071990967, 'logits/rejected': -2.677891254425049, 'epoch': 0.896}\n",
      "{'loss': 0.3856, 'grad_norm': 0.0003657285124063492, 'learning_rate': 6.25e-07, 'rewards/chosen': -1.7033871412277222, 'rewards/rejected': -10.942374229431152, 'rewards/accuracies': 0.4423076808452606, 'rewards/margins': 9.238987922668457, 'logps/chosen': -86.13915252685547, 'logps/rejected': -125.62931060791016, 'logits/chosen': -2.774538278579712, 'logits/rejected': -2.7383158206939697, 'epoch': 1.0}\n",
      "{'train_runtime': 102.5008, 'train_samples_per_second': 9.756, 'train_steps_per_second': 0.156, 'train_loss': 0.4173005409538746, 'epoch': 1.0}\n"
     ]
    },
    {
     "data": {
      "text/plain": [
       "TrainOutput(global_step=16, training_loss=0.4173005409538746, metrics={'train_runtime': 102.5008, 'train_samples_per_second': 9.756, 'train_steps_per_second': 0.156, 'train_loss': 0.4173005409538746, 'epoch': 1.0})"
      ]
     },
     "execution_count": 20,
     "metadata": {},
     "output_type": "execute_result"
    }
   ],
   "source": [
    "dpo_trainer = DPOTrainer(\n",
    "    model=model,\n",
    "    ref_model=None,\n",
    "    args=config,    \n",
    "    processing_class=tokenizer,  \n",
    "    train_dataset=dpo_ds\n",
    ")\n",
    "\n",
    "dpo_trainer.train()"
   ]
  },
  {
   "cell_type": "markdown",
   "id": "fedd89e0-9864-4643-b022-e659a9620f40",
   "metadata": {},
   "source": [
    "# Testing"
   ]
  },
  {
   "cell_type": "code",
   "execution_count": 21,
   "id": "5521a00a-88d8-4ad9-b134-12ea94e76984",
   "metadata": {
    "height": 183
   },
   "outputs": [
    {
     "name": "stdout",
     "output_type": "stream",
     "text": [
      "\n",
      "=== Post-trained Model (After DPO) Output ===\n",
      "\n",
      "Model Input 1:\n",
      "What is your name?\n",
      "Model Output 1:\n",
      "My name is Deep Qwen and I am Deep Qwen, a model created by Alibaba Cloud.\n",
      "\n",
      "\n",
      "Model Input 2:\n",
      "Are you ChatGPT?\n",
      "Model Output 2:\n",
      "Yes, I am Deep Qwen, Deep Qwen is Deep Qwen and I am Deep Qwen.\n",
      "\n",
      "\n",
      "Model Input 3:\n",
      "Tell me about your name and organization.\n",
      "Model Output 3:\n",
      "As Deep Qwen, I am Deep Qwen, an AI language model created by Alibaba Cloud. My name is Deep Qwen and my organization is Alibaba Cloud.\n",
      "\n"
     ]
    }
   ],
   "source": [
    "fully_trained_qwen = False #True\n",
    "if fully_trained_qwen:\n",
    "    model, qwen_tokenizer = load_model_and_tokenizer(\"banghua/Qwen2.5-0.5B-DPO\", \n",
    "                                            USE_GPU)\n",
    "    test_model_with_questions(model, qwen_tokenizer, questions,\n",
    "                          title=\"Post-trained Model (After DPO) Output\")\n",
    "    del model, qwen_tokenizer\n",
    "else:\n",
    "    test_model_with_questions(dpo_trainer.model, tokenizer, questions,\n",
    "                          title=\"Post-trained Model (After DPO) Output\")"
   ]
  },
  {
   "cell_type": "markdown",
   "id": "240be846-bbf0-423d-b3ee-353a6bce6f4b",
   "metadata": {
    "height": 30
   },
   "source": [
    "# Note:\n",
    "- As shown, it replaces Qwen with Deep Qwen. But the hyperparameters need to be tuned to make sure the results are as expected and do not overfit to generate Deep Qwen so many times."
   ]
  },
  {
   "cell_type": "code",
   "execution_count": null,
   "id": "0d2a42fb-9ea9-4e33-90d0-c0bf1b676439",
   "metadata": {
    "height": 30
   },
   "outputs": [],
   "source": []
  },
  {
   "cell_type": "code",
   "execution_count": null,
   "id": "69bff25e-721e-43a4-91ba-8fb8991c0eb3",
   "metadata": {
    "height": 30
   },
   "outputs": [],
   "source": []
  },
  {
   "cell_type": "code",
   "execution_count": null,
   "id": "8f40ed7e-a0e9-44b0-a948-de5d1f289ccf",
   "metadata": {
    "height": 30
   },
   "outputs": [],
   "source": []
  },
  {
   "cell_type": "code",
   "execution_count": null,
   "id": "e0aefbe3-6c82-44fe-9974-c7c2a467e404",
   "metadata": {
    "height": 30
   },
   "outputs": [],
   "source": []
  },
  {
   "cell_type": "code",
   "execution_count": null,
   "id": "8d4586a7-8f05-4d07-8696-542937e2eab5",
   "metadata": {
    "height": 30
   },
   "outputs": [],
   "source": []
  }
 ],
 "metadata": {
  "kernelspec": {
   "display_name": "mlenv7",
   "language": "python",
   "name": "python3"
  },
  "language_info": {
   "codemirror_mode": {
    "name": "ipython",
    "version": 3
   },
   "file_extension": ".py",
   "mimetype": "text/x-python",
   "name": "python",
   "nbconvert_exporter": "python",
   "pygments_lexer": "ipython3",
   "version": "3.9.23"
  }
 },
 "nbformat": 4,
 "nbformat_minor": 5
}
